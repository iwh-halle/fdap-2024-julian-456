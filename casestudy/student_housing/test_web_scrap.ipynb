{
 "cells": [
  {
   "cell_type": "code",
   "execution_count": 127,
   "metadata": {},
   "outputs": [],
   "source": [
    "# Packages used in this notebook\n",
    "import requests\n",
    "from bs4 import BeautifulSoup\n",
    "import pandas as pd\n",
    "import re\n",
    "\n",
    "# setting the starting url \n",
    "url_overview_köln = \"https://www.wg-gesucht.de/wg-zimmer-in-Koeln.73.0.0.1.html\""
   ]
  },
  {
   "cell_type": "code",
   "execution_count": 98,
   "metadata": {},
   "outputs": [
    {
     "name": "stdout",
     "output_type": "stream",
     "text": [
      "302\n",
      "[]\n",
      "0\n"
     ]
    }
   ],
   "source": [
    "# Testing \n",
    "# Sends a GET request to the URL to retrieve its content; The Website tryes to redicrect the request to a captcha page, reloading solves the problem\n",
    "response = requests.get(url_overview_köln, allow_redirects=False)\n",
    "# assert response.status_code == 200\n",
    "print(response.status_code)\n",
    "# Parse results\n",
    "soup = BeautifulSoup(response.text, 'html.parser')\n",
    "\n",
    "target_class = \"ang_spalte_icons row_click\"\n",
    "elements = soup.find_all('td', class_=target_class)\n",
    "links=[]\n",
    "for element in elements:\n",
    "    links.append(element.find('a').get('href'))\n",
    "# Extracting all shared apartments\n",
    "#for link in soup.find_all('a'):\n",
    "#    print(link.get('href'))\n",
    "print(links)\n",
    "print(len(links))\n"
   ]
  },
  {
   "cell_type": "markdown",
   "metadata": {},
   "source": [
    "302 => Captcha -->nochmal probieren\n",
    "200 => Okay\n",
    "\n",
    "wnen die Klasse auf einer Seite nicht mehr gefunden werden kann, enthält diese keine Angebote mehr"
   ]
  },
  {
   "cell_type": "code",
   "execution_count": 148,
   "metadata": {},
   "outputs": [
    {
     "name": "stdout",
     "output_type": "stream",
     "text": [
      "Base links: \n",
      "['/wg-zimmer-in-Koeln-Holweide.9758772.html', '/wg-zimmer-in-Koeln-Altstadt-Sued.6068399.html', '/wg-zimmer-in-Koeln-Marienburg.3216416.html', '/wg-zimmer-in-Koeln-Kalk.11012234.html', '/wg-zimmer-in-Koeln-Ehrenfeld.11012649.html', '/wg-zimmer-in-Koeln-Kalk.9747118.html', '/wg-zimmer-in-Koeln-Altstadt-Nord.9938808.html', '/wg-zimmer-in-Koeln-Altstadt-Sued.11011997.html', '/wg-zimmer-in-Koeln-Humboldt-Gremberg.11015946.html', '/wg-zimmer-in-Koeln-Loevenich.2085119.html', '/wg-zimmer-in-Koeln-Nippes.5464651.html', '/wg-zimmer-in-Koeln.11008666.html', '/wg-zimmer-in-Koeln-Ehrenfeld.8187268.html', '/wg-zimmer-in-Koeln-Muelheim.11013052.html', '/wg-zimmer-in-Koeln-West.6980083.html', '/wg-zimmer-in-Koeln-Muelheim.10451742.html', '/wg-zimmer-in-Koeln-Brueck.10036288.html', '/wg-zimmer-in-Koeln-Riehl.4764812.html', '/wg-zimmer-in-Koeln-Neustadt-Nord.10729826.html', '/wg-zimmer-in-Koeln-Suelz.11016040.html', '/wg-zimmer-in-Koeln-Suelz.11016040.html', '/wg-zimmer-in-Koeln-Dellbrueck.11015324.html', '/wg-zimmer-in-Koeln-Nippes.10311190.html', '/wg-zimmer-in-Koeln-Poll.10999811.html', '/wg-zimmer-in-Koeln-Koeln-Widdersdorf.7272793.html', '/wg-zimmer-in-Koeln-Leverkusen-Wiesdorf.8836353.html', '/wg-zimmer-in-Koeln-Altstadt-Sued.11012887.html', '/wg-zimmer-in-Koeln-Altstadt-Sued.11012853.html', '/wg-zimmer-in-Koeln-Altstadt-Sued.11003615.html', '/wg-zimmer-in-Koeln-Quartier-Lataeng.9421361.html', '/wg-zimmer-in-Koeln-Belgisches-Viertel.11015800.html', '/wg-zimmer-in-Koeln-Suelz.11015857.html', '/wg-zimmer-in-Koeln-Altstadt-Sued.8454093.html', '/wg-zimmer-in-Koeln-Braunsfeld.10984474.html', '/wg-zimmer-in-Koeln-Niehl.10974009.html', '/wg-zimmer-in-Koeln-Nippes.11002641.html', '/wg-zimmer-in-Koeln-Deutz-Muelheim.9996498.html', '/wg-zimmer-in-Koeln-Nippes.10939988.html', '/wg-zimmer-in-Koeln-Ehrenfeld.10948692.html', '/wg-zimmer-in-Koeln-Nippes.11002623.html', '/wg-zimmer-in-Koeln-Zollstock.11013109.html', '/wg-zimmer-in-Koeln-Altstadt-Nord.10996127.html', '/wg-zimmer-in-Koeln-Lindenthal.10792004.html', '/wg-zimmer-in-Koeln-Junkersdorf.5595834.html', '/wg-zimmer-in-Koeln-Altstadt-Sued.7022036.html', '/wg-zimmer-in-Koeln-Junkersdorf.5579974.html', '/wg-zimmer-in-Koeln-Deutz.10836263.html', '/wg-zimmer-in-Koeln-Zollstock.11015575.html', '/wg-zimmer-in-Koeln-Lindenthal.10987669.html', '/wg-zimmer-in-Koeln-Lindenthal.10998254.html', '/wg-zimmer-in-Koeln-Ehrenfeld.6788242.html', '/wg-zimmer-in-Koeln-Nippes.11004851.html', '/wg-zimmer-in-Koeln-Ehrenfeld.10077062.html', '/wg-zimmer-in-Koeln-Humboldt-Gremberg.9090325.html', '/wg-zimmer-in-Koeln-Deutz.10212304.html', '/wg-zimmer-in-Koeln-Lindenthal.9499007.html', '/wg-zimmer-in-Koeln-Ehrenfeld.8086704.html', '/wg-zimmer-in-Koeln-Ehrenfeld.6654704.html', '/wg-zimmer-in-Koeln-Zollstock.5549274.html', '/wg-zimmer-in-Koeln-Ehrenfeld.11013320.html', '/wg-zimmer-in-Koeln-Zollstock.5549274.html', '/wg-zimmer-in-Koeln-Ehrenfeld.11013320.html', '/wg-zimmer-in-Koeln-Kalk.8504579.html', '/wg-zimmer-in-Koeln-Neustadt-Sued.10887214.html', '/wg-zimmer-in-Koeln-Mauenheim.9151728.html', '/wg-zimmer-in-Koeln-Koeln-Ostheim.10998761.html', '/wg-zimmer-in-Koeln.10972581.html', '/wg-zimmer-in-Koeln-Koeln.10984652.html', '/wg-zimmer-in-Koeln-Weiden.11001885.html', '/wg-zimmer-in-Koeln-Ehrenfeld.9450752.html', '/wg-zimmer-in-Koeln-Muelheim.10156705.html', '/wg-zimmer-in-Koeln-Bayenthal.11002620.html', '/wg-zimmer-in-Koeln-Holweide.7552060.html', '/wg-zimmer-in-Koeln-Bayenthal.10774335.html', '/wg-zimmer-in-Koeln-Koeln.10908311.html', '/wg-zimmer-in-Koeln-Klettenberg.11000562.html', '/wg-zimmer-in-Koeln-Suelz.6629010.html', '/wg-zimmer-in-Koeln-Neustadt-Nord.10998947.html', '/wg-zimmer-in-Koeln-Nippes.3577779.html', '/wg-zimmer-in-Koeln.11014580.html', '/wg-zimmer-in-Koeln.9097672.html', '/wg-zimmer-in-Koeln-Lindenthal.11015127.html', '/wg-zimmer-in-Koeln-Weiden.5955107.html', '/wg-zimmer-in-Koeln-Neustadt-Sued.11015097.html', '/wg-zimmer-in-Koeln-Nippes.11015072.html', '/wg-zimmer-in-Koeln-Ehrenfeld.10985920.html', '/wg-zimmer-in-Koeln-Suelz.11014987.html', '/wg-zimmer-in-Koeln-Rondorf.11014904.html', '/wg-zimmer-in-Koeln-Lindenthal.10289233.html', '/wg-zimmer-in-Koeln-Weiden.5955025.html', '/wg-zimmer-in-Koeln-Ensen.11014930.html', '/wg-zimmer-in-Koeln-Humboldt-Gremberg.11011099.html', '/wg-zimmer-in-Koeln-Koeln-Bocklemuend-Mengenich.11003256.html', '/wg-zimmer-in-Koeln-Deutz.10998998.html', '/wg-zimmer-in-Koeln-Ehrenfeld.11008848.html', '/wg-zimmer-in-Koeln-Ehrenfeld.11008948.html', '/wg-zimmer-in-Koeln-Nippes.10979400.html', '/wg-zimmer-in-Koeln.11008385.html', '/wg-zimmer-in-Koeln-Braunsfeld.10945067.html', '/wg-zimmer-in-Koeln-Altstadt-Sued.10954009.html', '/wg-zimmer-in-Koeln-Koeln.11014767.html', '/wg-zimmer-in-Koeln-Zollstock.10049605.html', '/wg-zimmer-in-Koeln-Marienburg.10590012.html', '/wg-zimmer-in-Koeln.11007372.html', '/wg-zimmer-in-Koeln-Nippes.9308540.html', '/wg-zimmer-in-Koeln-Agnesvittel.11014718.html', '/wg-zimmer-in-Koeln-Ehrenfeld.11014688.html', '/wg-zimmer-in-Koeln-Ehrenfeld.10968587.html', '/wg-zimmer-in-Koeln-Nippes.11004700.html', '/wg-zimmer-in-Koeln-Nippes.10991775.html', '/wg-zimmer-in-Koeln-Nippes.9100527.html', '/wg-zimmer-in-Koeln-Braunsfeld.11002555.html', '/wg-zimmer-in-Koeln.10934210.html', '/wg-zimmer-in-Koeln-Belgisches-Viertel.9409531.html', '/wg-zimmer-in-Koeln.7792817.html', '/wg-zimmer-in-Koeln-Bayenthal.9891934.html', '/wg-zimmer-in-Koeln-Nippes.11002172.html', '/wg-zimmer-in-Koeln-Ehrenfeld.8956169.html', '/wg-zimmer-in-Koeln-Kalk.10994162.html', '/wg-zimmer-in-Koeln-Ehrenfeld.8478717.html', '/wg-zimmer-in-Koeln-Neuehrenfeld.10977187.html', '/wg-zimmer-in-Koeln-Nippes.11014331.html', '/wg-zimmer-in-Koeln-Suelz.11014293.html', '/wg-zimmer-in-Koeln-Suelz.5159006.html', '/wg-zimmer-in-Koeln-Belgisches-Viertel.11014214.html', '/wg-zimmer-in-Koeln-Kalk.5503681.html', '/wg-zimmer-in-Koeln-Ehrenfeld.10428723.html', '/wg-zimmer-in-Koeln-Buchforst.10998450.html', '/wg-zimmer-in-Koeln-Ehrenfeld.6539540.html', '/wg-zimmer-in-Koeln-Ehrenfeld.11004164.html', '/wg-zimmer-in-Koeln-Neustadt-Nord.10997391.html', '/wg-zimmer-in-Koeln-Weidenpesch.8751447.html', '/wg-zimmer-in-Koeln-Altstadt-Sued.11006723.html', '/wg-zimmer-in-Koeln-Humboldt-Gremberg.11014075.html', '/wg-zimmer-in-Koeln-Buchheim.10776214.html', '/wg-zimmer-in-Koeln.11014054.html', '/wg-zimmer-in-Koeln.11001741.html', '/wg-zimmer-in-Koeln-Muelheim.9859439.html', '/wg-zimmer-in-Koeln-Zollstock.9808168.html', '/wg-zimmer-in-Koeln-Ensen.11013867.html', '/wg-zimmer-in-Koeln.10988867.html', '/wg-zimmer-in-Koeln.11002416.html', '/wg-zimmer-in-Koeln-Belgisches-Viertel.10600109.html', '/wg-zimmer-in-Koeln-Poll.10203572.html', '/wg-zimmer-in-Koeln-Suelz.9071965.html', '/wg-zimmer-in-Koeln-Ehrenfeld.11013516.html', '/wg-zimmer-in-Koeln.7792892.html', '/wg-zimmer-in-Koeln-Koeln.11013455.html', '/wg-zimmer-in-Koeln-Lindenthal.11006405.html', '/wg-zimmer-in-Koeln-Altstadt-Sued.10991684.html', '/wg-zimmer-in-Koeln-Altstadt-Sued.11012382.html', '/wg-zimmer-in-Koeln-Nippes.9348437.html', '/wg-zimmer-in-Koeln-Suelz.11013030.html', '/wg-zimmer-in-Koeln-Ehrenfeld.6979367.html', '/wg-zimmer-in-Koeln.9836879.html', '/wg-zimmer-in-Koeln.10728845.html', '/wg-zimmer-in-Koeln-Weiden.11008987.html', '/wg-zimmer-in-Koeln-Bayenthal.4810526.html', '/wg-zimmer-in-Koeln.10989742.html', '/wg-zimmer-in-Koeln-Humboldt-Gremberg.11012952.html', '/wg-zimmer-in-Koeln-Porz.11012972.html', '/wg-zimmer-in-Koeln-Suelz.7861071.html', '/wg-zimmer-in-Koeln-Zollstock.10138614.html', '/wg-zimmer-in-Koeln-Lindenthal.11012796.html', '/wg-zimmer-in-Koeln-Bilderstoeckchen.10735471.html', '/wg-zimmer-in-Koeln-Stammheim.10012407.html', '/wg-zimmer-in-Koeln-Niehl.11012190.html', '/wg-zimmer-in-Koeln-Nippes.8117579.html', '/wg-zimmer-in-Koeln-Kalk.8543057.html', '/wg-zimmer-in-Koeln-Nippes.9104270.html', '/wg-zimmer-in-Koeln-Ehrenfeld.11007471.html', '/wg-zimmer-in-Koeln-Ehrenfeld.10419015.html', '/wg-zimmer-in-Koeln-Pesch.10705187.html', '/wg-zimmer-in-Koeln-Deutz.11012626.html', '/wg-zimmer-in-Koeln-Bayenthal.10221407.html', '/wg-zimmer-in-Koeln-Altstadt-Sued.10935455.html', '/wg-zimmer-in-Koeln-Junkersdorf.7835209.html', '/wg-zimmer-in-Koeln-Altstadt-Nord.11011490.html', '/wg-zimmer-in-Koeln-Muelheim.10692938.html', '/wg-zimmer-in-Koeln.11010748.html', '/wg-zimmer-in-Koeln-Suedstadt.11003944.html', '/wg-zimmer-in-Koeln-Muelheim.11012389.html', '/wg-zimmer-in-Koeln-Suelz.11012336.html', '/wg-zimmer-in-Koeln-Neu-Ehrenfeld.7540032.html', '/wg-zimmer-in-Koeln-Koeln.11001093.html', '/wg-zimmer-in-Koeln-Suelz.11012217.html', '/wg-zimmer-in-Koeln-Ehrenfeld.4907517.html', '/wg-zimmer-in-Koeln-Klettenberg.10140232.html', '/wg-zimmer-in-Koeln-Ehrenfeld.11012183.html', '/wg-zimmer-in-Koeln-Altstadt-Sued.9647079.html', '/wg-zimmer-in-Koeln-Weiden.10959399.html', '/wg-zimmer-in-Koeln-Altstadt-Nord.11007093.html', '/wg-zimmer-in-Koeln-Nippes.11010700.html', '/wg-zimmer-in-Koeln-Ehrenfeld.10995092.html', '/wg-zimmer-in-Koeln-Neuehrenfeld.10351355.html', '/wg-zimmer-in-Koeln-Ehrenfeld.11012035.html', '/wg-zimmer-in-Koeln-Raderberg.9417660.html', '/wg-zimmer-in-Koeln-Lindenthal.10683233.html', '/wg-zimmer-in-Koeln.11011851.html', '/wg-zimmer-in-Koeln-Neuehrenfeld.11011875.html', '/wg-zimmer-in-Koeln-Koeln-Merheim.10781233.html', '/wg-zimmer-in-Koeln-Hoehenberg.11006843.html', '/wg-zimmer-in-Koeln-Vingst.10992426.html', '/wg-zimmer-in-Koeln-Neustadt-Nord.11004453.html', '/wg-zimmer-in-Koeln-Zollstock.6559626.html', '/wg-zimmer-in-Koeln-Ossendorf.11011479.html', '/wg-zimmer-in-Koeln-Hoehenberg.10204353.html', '/wg-zimmer-in-Koeln-Braunsfeld.8639687.html', '/wg-zimmer-in-Koeln-Suelz.10945126.html', '/wg-zimmer-in-Koeln.11003857.html', '/wg-zimmer-in-Koeln-Rondorf.11010745.html', '/wg-zimmer-in-Koeln-Neustadt-Nord.5224579.html', '/wg-zimmer-in-Koeln-Klettenberg.10656458.html', '/wg-zimmer-in-Koeln-Klettenberg.8996879.html', '/wg-zimmer-in-Koeln-Rondorf.10770754.html', '/wg-zimmer-in-Koeln-Altstadt-Nord.11010782.html', '/wg-zimmer-in-Koeln-Altstadt-Nord.6444935.html', '/wg-zimmer-in-Koeln-Ossendorf.6391506.html', '/wg-zimmer-in-Koeln-Ossendorf.6370542.html', '/wg-zimmer-in-Koeln-Zollstock.11010452.html', '/wg-zimmer-in-Koeln-Koeln--Kalk.10691331.html', '/wg-zimmer-in-Koeln-Suelz.8646479.html', '/wg-zimmer-in-Koeln-Neustadt-Nord.10968547.html', '/wg-zimmer-in-Koeln-Neuehrenfeld.10990780.html', '/wg-zimmer-in-Koeln-Ehrenfeld.11009979.html', '/wg-zimmer-in-Koeln-Altstadt-Nord.10924685.html', '/wg-zimmer-in-Koeln-Neustadt-Sued.9050219.html', '/wg-zimmer-in-Koeln.7987862.html', '/wg-zimmer-in-Koeln.11002081.html', '/wg-zimmer-in-Koeln-Ossendorf.4601752.html', '/wg-zimmer-in-Koeln-Humboldt-Gremberg.10960648.html', '/wg-zimmer-in-Koeln-Altstadt-Nord.10513029.html', '/wg-zimmer-in-Koeln-Muelheim.9686274.html', '/wg-zimmer-in-Koeln-Muelheim.10970673.html', '/wg-zimmer-in-Koeln-Muelheim.10304895.html', '/wg-zimmer-in-Koeln-Ostheim.8629742.html', '/wg-zimmer-in-Koeln-Lindenthal.11008784.html', '/wg-zimmer-in-Koeln-Neustadt-Nord.11003722.html', '/wg-zimmer-in-Koeln-Suelz.10987024.html', '/wg-zimmer-in-Koeln-Altstadt-Nord.11009039.html', '/wg-zimmer-in-Koeln-Suelz.8343012.html', '/wg-zimmer-in-Koeln-Bickendorf.11006359.html', '/wg-zimmer-in-Koeln-Buchforst.10984712.html', '/wg-zimmer-in-Koeln.10277831.html', '/wg-zimmer-in-Koeln-Muelheim.8746074.html', '/wg-zimmer-in-Koeln-Koeln.10134487.html', '/wg-zimmer-in-Koeln.10891632.html', '/wg-zimmer-in-Koeln-Altstadt-Nord.11008757.html', '/wg-zimmer-in-Koeln-Nippes.10951838.html', '/wg-zimmer-in-Koeln-Bensberg-Bergisch-Gladbach.11003865.html', '/wg-zimmer-in-Koeln-Holweide.11008641.html', '/wg-zimmer-in-Koeln-Lindenthal.11008629.html', '/wg-zimmer-in-Koeln-Agnesviertel.10188646.html', '/wg-zimmer-in-Koeln-Koeln.11008568.html', '/wg-zimmer-in-Koeln-Weiden.10992630.html', '/wg-zimmer-in-Koeln-Altstadt-Nord.10996434.html', '/wg-zimmer-in-Koeln-Marienburg.10825495.html', '/wg-zimmer-in-Koeln-Ehrenfeld.11008292.html', '/wg-zimmer-in-Koeln-Humboldt-Gremberg.10963782.html', '/wg-zimmer-in-Koeln-Kalk.8606446.html', '/wg-zimmer-in-Koeln-Altstadt-Nord.11008194.html', '/wg-zimmer-in-Koeln-Stadtgartenviertel.10469014.html', '/wg-zimmer-in-Koeln-Ehrenfeld.10974998.html', '/wg-zimmer-in-Koeln-Altstadt.8824542.html', '/wg-zimmer-in-Koeln-Lindenthal.10733309.html', '/wg-zimmer-in-Koeln-Kalk.11000518.html', '/wg-zimmer-in-Koeln-Ossendorf.10999332.html', '/wg-zimmer-in-Koeln-Kalk.10997525.html', '/wg-zimmer-in-Koeln-Altstadt-Nord.10991107.html', '/wg-zimmer-in-Koeln.10980768.html', '/wg-zimmer-in-Koeln-Bickendorf.10984054.html', '/wg-zimmer-in-Koeln-Suerth.7363549.html', '/wg-zimmer-in-Koeln-Braunsfeld.6781566.html', '/wg-zimmer-in-Koeln-Nippes.11007830.html', '/wg-zimmer-in-Koeln-Bayenthal.10987760.html', '/wg-zimmer-in-Koeln-Suelz.10981133.html', '/wg-zimmer-in-Koeln-Koeln.11005086.html', '/wg-zimmer-in-Koeln-Nippes.11007370.html', '/wg-zimmer-in-Koeln-Altstadt-Nord.7660934.html', '/wg-zimmer-in-Koeln-Neustadt-Sued.7849513.html', '/wg-zimmer-in-Koeln-Neustadt-Sued.3239783.html', '/wg-zimmer-in-Koeln-Rodenkirchen.11007293.html', '/wg-zimmer-in-Koeln-Neustadt-Sued.7764003.html', '/wg-zimmer-in-Koeln-Lindenthal.10741160.html', '/wg-zimmer-in-Koeln.10306700.html', '/wg-zimmer-in-Koeln-Humboldt-Gremberg.8869944.html', '/wg-zimmer-in-Koeln-Zollstock.11003811.html', '/wg-zimmer-in-Koeln-Belgisches-Viertel.11007230.html', '/wg-zimmer-in-Koeln-Neustadt-Nord.11007069.html', '/wg-zimmer-in-Koeln-Koeln.9691827.html', '/wg-zimmer-in-Koeln-Neustadt-Sued.9810794.html', '/wg-zimmer-in-Koeln-Altstadt-Sued.10081212.html', '/wg-zimmer-in-Koeln-Suelz.11006926.html', '/wg-zimmer-in-Koeln-Lindenthal.8185544.html', '/wg-zimmer-in-Koeln-Neustadt-Sued.10129937.html', '/wg-zimmer-in-Koeln-Nippes.10996840.html', '/wg-zimmer-in-Koeln-Zollstock.11006858.html', '/wg-zimmer-in-Koeln-Nippes.10119482.html', '/wg-zimmer-in-Koeln-Suelz.11003045.html', '/wg-zimmer-in-Koeln-Braunsfeld.11006778.html', '/wg-zimmer-in-Koeln-Braunsfeld.11006778.html', '/wg-zimmer-in-Koeln-Kalk.11004055.html', '/wg-zimmer-in-Koeln.10052772.html', '/wg-zimmer-in-Koeln-Altstadt-Sued.11006423.html', '/wg-zimmer-in-Koeln-Altstadt-Sued.11006008.html', '/wg-zimmer-in-Koeln-Neustadt-Nord.11006607.html', '/wg-zimmer-in-Koeln-Deutz.7815932.html', '/wg-zimmer-in-Koeln-Zollstock.11005956.html', '/wg-zimmer-in-Koeln-Kalk.11003698.html', '/wg-zimmer-in-Koeln-Bilderstoeckchen.10997707.html', '/wg-zimmer-in-Koeln-Neustadt-Sued.11005809.html', '/wg-zimmer-in-Koeln.10787559.html', '/wg-zimmer-in-Koeln-Junkersdorf.11002152.html', '/wg-zimmer-in-Koeln-Junkersdorf.11006112.html', '/wg-zimmer-in-Koeln-Altstadt-Nord.9522677.html', '/wg-zimmer-in-Koeln-Riehl.10998919.html', '/wg-zimmer-in-Koeln-Neustadt-Nord.10148878.html', '/wg-zimmer-in-Koeln-Bilderstoeckchen.11006081.html', '/wg-zimmer-in-Koeln-Muelheim.10762132.html', '/wg-zimmer-in-Koeln-Rondorf.9949745.html', '/wg-zimmer-in-Koeln-ehrenfeld.10758670.html', '/wg-zimmer-in-Koeln-Buchforst.7874233.html', '/wg-zimmer-in-Koeln-Humboldt-Gremberg.10924896.html', '/wg-zimmer-in-Koeln.3953554.html', '/wg-zimmer-in-Koeln-Deutz.4287518.html', '/wg-zimmer-in-Koeln-Kalk.7913436.html', '/wg-zimmer-in-Koeln-Koeln.10981513.html', '/wg-zimmer-in-Koeln-Mauritiusviertel.11005241.html', '/wg-zimmer-in-Koeln-Komponisten-Viertel.11005790.html', '/wg-zimmer-in-Koeln-Suelz.9270992.html', '/wg-zimmer-in-Koeln-Kalk.6194630.html', '/wg-zimmer-in-Koeln-Ehrenfeld.7539390.html', '/wg-zimmer-in-Koeln-Neuehrenfeld.10868599.html', '/wg-zimmer-in-Koeln-Zollstock.11002320.html', '/wg-zimmer-in-Koeln-Suelz.8508188.html', '/wg-zimmer-in-Koeln-Blumenberg.11003625.html', '/wg-zimmer-in-Koeln-Junkersdorf.11005287.html', '/wg-zimmer-in-Koeln-Altstadt-Nord.9176797.html', '/wg-zimmer-in-Koeln-Suelz.7619549.html', '/wg-zimmer-in-Koeln-Neustadt-Sued.11005001.html', '/wg-zimmer-in-Koeln-Neustadt-Sued.9900677.html', '/wg-zimmer-in-Koeln-Gereonsviertel.9043655.html', '/wg-zimmer-in-Koeln-Rodenkirchen.9508558.html', '/wg-zimmer-in-Koeln-Belgisches-Viertel.492755.html', '/wg-zimmer-in-Koeln-Ehrenfeld.10995482.html', '/wg-zimmer-in-Koeln-Lindenthal.11004960.html', '/wg-zimmer-in-Koeln-Suelz.10972967.html', '/wg-zimmer-in-Koeln-Muelheim.10915259.html', '/wg-zimmer-in-Koeln-Zollstock.11004947.html', '/wg-zimmer-in-Koeln-Suerth.8655112.html', '/wg-zimmer-in-Koeln-Altstadt-Nord.11003341.html', '/wg-zimmer-in-Koeln-Vogelsang.7157874.html', '/wg-zimmer-in-Koeln-Niehl.10185826.html', '/wg-zimmer-in-Koeln-Deutz.10953989.html', '/wg-zimmer-in-Koeln.10569554.html', '/wg-zimmer-in-Koeln-Lindenthal.5112823.html', '/wg-zimmer-in-Koeln-Lindenthal.4653324.html', '/wg-zimmer-in-Koeln-Suelz.10987322.html', '/wg-zimmer-in-Koeln-Zollstock.10962426.html', '/wg-zimmer-in-Koeln-Altstadt-Sued.10991060.html', '/wg-zimmer-in-Koeln-Ehrenfeld.11003034.html', '/wg-zimmer-in-Koeln-Amsterdam-Oost.10652061.html', '/wg-zimmer-in-Koeln-Altstadt-Nord.11004393.html', '/wg-zimmer-in-Koeln.11004289.html', '/wg-zimmer-in-Koeln-Koeln.10580520.html', '/wg-zimmer-in-Koeln-Koeln.11004134.html', '/wg-zimmer-in-Koeln-Neuehrenfeld.10946792.html', '/wg-zimmer-in-Koeln.10349573.html', '/wg-zimmer-in-Koeln-Kalk.9774840.html', '/wg-zimmer-in-Koeln.9947774.html', '/wg-zimmer-in-Koeln-Neustadt-Nord.11004020.html', '/wg-zimmer-in-Koeln-Altstadt-Sued.10802078.html', '/wg-zimmer-in-Koeln-Humboldt-Gremberg.5491329.html', '/wg-zimmer-in-Koeln.9613875.html', '/wg-zimmer-in-Koeln-Ehrenfeld.10999196.html', '/wg-zimmer-in-Koeln-Ehrenfeld.11003553.html', '/wg-zimmer-in-Koeln-Ehrenfeld.11003535.html', '/wg-zimmer-in-Koeln-Ensen.11003531.html', '/wg-zimmer-in-Koeln-Ensen.11003502.html', '/wg-zimmer-in-Koeln-Lindenthal.11001191.html', '/wg-zimmer-in-Koeln-Muelheim.10977664.html', '/wg-zimmer-in-Koeln-Ehrenfeld.10763679.html', '/wg-zimmer-in-Koeln-Neustadt-Sued.10718526.html', '/wg-zimmer-in-Koeln-Neustadt-Nord.11002946.html', '/wg-zimmer-in-Koeln-Suelz.10957831.html', '/wg-zimmer-in-Koeln-Kwartier-Lataeng.11000314.html', '/wg-zimmer-in-Koeln-Ehrenfeld.10726809.html', '/wg-zimmer-in-Koeln-Humboldt-Gremberg.10949184.html', '/wg-zimmer-in-Koeln-Muelheim.11002574.html', '/wg-zimmer-in-Koeln-Zollstock.10341229.html', '/wg-zimmer-in-Koeln-Neustadt-Sued.7339651.html', '/wg-zimmer-in-Koeln-Nippes.10951327.html', '/wg-zimmer-in-Koeln-Altstadt-Nord.10648287.html', '/wg-zimmer-in-Koeln-Riehl.11001509.html', '/wg-zimmer-in-Koeln-Ehrenfeld.11002379.html', '/wg-zimmer-in-Koeln-Ehrenfeld.11002307.html', '/wg-zimmer-in-Koeln-Ehrenfeld.9100835.html', '/wg-zimmer-in-Koeln-Holweide.10683485.html', '/wg-zimmer-in-Koeln-Ostheim.9795900.html', '/wg-zimmer-in-Koeln-Ostheim.10958515.html', '/wg-zimmer-in-Koeln.9326521.html', '/wg-zimmer-in-Koeln-Koeln.10986616.html', '/wg-zimmer-in-Koeln-Suelz.10985955.html', '/wg-zimmer-in-Koeln-Neustadt-Nord.11002147.html', '/wg-zimmer-in-Koeln-Koeln.11002173.html', '/wg-zimmer-in-Koeln-Altstadt-Sued.10663667.html', '/wg-zimmer-in-Koeln-Lindenthal.11002103.html', '/wg-zimmer-in-Koeln-Ehrenfeld.10967178.html', '/wg-zimmer-in-Koeln-Ehrenfeld.10731041.html', '/wg-zimmer-in-Koeln-Altstadt-Nord.10790977.html', '/wg-zimmer-in-Koeln-Vogelsang.10229945.html', '/wg-zimmer-in-Koeln-Westhoven.1487989.html', '/wg-zimmer-in-Koeln-Ostheim.10977938.html', '/wg-zimmer-in-Koeln-Kalk.10968773.html', '/wg-zimmer-in-Koeln.10432249.html', '/wg-zimmer-in-Koeln-Suelz.10936897.html', '/wg-zimmer-in-Koeln-Suelz.10551021.html', '/wg-zimmer-in-Koeln-Muelheim.11001185.html', '/wg-zimmer-in-Koeln-Humboldt-Gremberg.9083150.html', '/wg-zimmer-in-Koeln.10991456.html']\n",
      "Anzahl der Base links:416\n",
      "Campaign links: \n",
      "['/wg-zimmer-in-Koeln.73.0.1.0.html?asset_id=10883742&pu=12685206&sort_column=1&sort_order=0', '/wg-zimmer-in-Koeln.11011386.html', '/wg-zimmer-in-Koeln-Altstadt-Nord.11010445.html', '/wg-zimmer-in-Koeln-Ehrenfeld.10875363.html', '/wg-zimmer-in-Koeln-Altstadt-Nord.11010439.html', '/wg-zimmer-in-Koeln-Ehrenfeld.10883742.html', '/wg-zimmer-in-Koeln.11011388.html', '/wg-zimmer-in-Koeln.73.0.1.0.html?asset_id=11010640&pu=19158680&sort_column=1&sort_order=0', '/wg-zimmer-in-Koeln-Ehrenfeld.10875362.html', '/wg-zimmer-in-Koeln-Altstadt-Nord.11010445.html', '/wg-zimmer-in-Koeln.11011298.html', '/wg-zimmer-in-Koeln-Altstadt-Sued.11010438.html', '/wg-zimmer-in-Koeln.11011386.html', '/wg-zimmer-in-Koeln-Ehrenfeld.10875234.html', '/wg-zimmer-in-Koeln.73.0.1.0.html?asset_id=10875362&pu=12685206&sort_column=1&sort_order=0', '/wg-zimmer-in-Koeln-Altstadt-Nord.10875303.html', '/wg-zimmer-in-Koeln-Altstadt-Nord.11010445.html', '/wg-zimmer-in-Koeln-Ehrenfeld.10883742.html', '/wg-zimmer-in-Koeln-Altstadt-Nord.11010444.html', '/wg-zimmer-in-Koeln.11010640.html', '/wg-zimmer-in-Koeln.11011387.html', '/wg-zimmer-in-Koeln.73.0.1.0.html?asset_id=10875364&pu=12685206&sort_column=1&sort_order=0', '/wg-zimmer-in-Koeln-Altstadt-Sued.11010438.html', '/wg-zimmer-in-Koeln-Ehrenfeld.10875362.html', '/wg-zimmer-in-Koeln-Ehrenfeld.10875234.html', '/wg-zimmer-in-Koeln.11011386.html', '/wg-zimmer-in-Koeln.11010640.html', '/wg-zimmer-in-Koeln-Altstadt-Nord.11010442.html', '/wg-zimmer-in-Koeln.73.0.1.0.html?asset_id=11011298&pu=19158680&sort_column=1&sort_order=0', '/wg-zimmer-in-Koeln.11011388.html', '/wg-zimmer-in-Koeln-Altstadt-Nord.11010445.html', '/wg-zimmer-in-Koeln-Ehrenfeld.10875363.html', '/wg-zimmer-in-Koeln-Altstadt-Sued.11010438.html', '/wg-zimmer-in-Koeln.11010641.html', '/wg-zimmer-in-Koeln-Altstadt-Nord.10875303.html', '/wg-zimmer-in-Koeln.73.0.1.0.html?asset_id=10875234&pu=12685206&sort_column=1&sort_order=0', '/wg-zimmer-in-Koeln-Altstadt-Nord.11010440.html', '/wg-zimmer-in-Koeln.11011388.html', '/wg-zimmer-in-Koeln-Altstadt-Nord.11010442.html', '/wg-zimmer-in-Koeln-Raderberg.10895942.html', '/wg-zimmer-in-Koeln-Ehrenfeld.10875234.html', '/wg-zimmer-in-Koeln.11010641.html', '/wg-zimmer-in-Koeln.73.0.1.0.html?asset_id=11010332&pu=19158680&sort_column=1&sort_order=0', '/wg-zimmer-in-Koeln-Ehrenfeld.10875364.html', '/wg-zimmer-in-Koeln.11010641.html', '/wg-zimmer-in-Koeln-Altstadt-Nord.10994798.html', '/wg-zimmer-in-Koeln.11011387.html', '/wg-zimmer-in-Koeln-Altstadt-Nord.11010439.html', '/wg-zimmer-in-Koeln-Altstadt-Nord.11010437.html', '/wg-zimmer-in-Koeln.73.0.1.0.html?asset_id=11010445&pu=19158680&sort_column=1&sort_order=0', '/wg-zimmer-in-Koeln-Ehrenfeld.10883742.html', '/wg-zimmer-in-Koeln.11011387.html', '/wg-zimmer-in-Koeln.11011386.html', '/wg-zimmer-in-Koeln-Ehrenfeld.10875363.html', '/wg-zimmer-in-Koeln-Altstadt-Nord.11010439.html', '/wg-zimmer-in-Koeln.11011388.html', '/wg-zimmer-in-Koeln.73.0.1.0.html?asset_id=10875362&pu=12685206&sort_column=1&sort_order=0', '/wg-zimmer-in-Koeln-Altstadt-Nord.11010440.html', '/wg-zimmer-in-Koeln.11011386.html', '/wg-zimmer-in-Koeln-Altstadt-Nord.11010442.html', '/wg-zimmer-in-Koeln-Altstadt-Nord.10994798.html', '/wg-zimmer-in-Koeln-Ehrenfeld.10875364.html', '/wg-zimmer-in-Koeln-Altstadt-Nord.11010444.html', '/wg-zimmer-in-Koeln.73.0.1.0.html?asset_id=10875303&pu=12685206&sort_column=1&sort_order=0', '/wg-zimmer-in-Koeln.11011388.html', '/wg-zimmer-in-Koeln-Altstadt-Nord.11010437.html', '/wg-zimmer-in-Koeln.11011387.html', '/wg-zimmer-in-Koeln-Ehrenfeld.10875362.html', '/wg-zimmer-in-Koeln.11010640.html', '/wg-zimmer-in-Koeln-Ehrenfeld.10875363.html', '/wg-zimmer-in-Koeln.73.0.1.0.html?asset_id=11010641&pu=19158680&sort_column=1&sort_order=0', '/wg-zimmer-in-Koeln-Altstadt-Nord.10875303.html', '/wg-zimmer-in-Koeln-Altstadt-Sued.11010438.html', '/wg-zimmer-in-Koeln.11010641.html', '/wg-zimmer-in-Koeln-Ehrenfeld.10875362.html', '/wg-zimmer-in-Koeln-Altstadt-Sued.11010332.html', '/wg-zimmer-in-Koeln-Altstadt-Nord.11010442.html', '/wg-zimmer-in-Koeln.73.0.1.0.html?asset_id=10875363&pu=12685206&sort_column=1&sort_order=0', '/wg-zimmer-in-Koeln-Ehrenfeld.10875363.html', '/wg-zimmer-in-Koeln-Altstadt-Nord.11010439.html', '/wg-zimmer-in-Koeln-Altstadt-Sued.11010332.html', '/wg-zimmer-in-Koeln-Altstadt-Nord.10994798.html', '/wg-zimmer-in-Koeln-Altstadt-Nord.11010445.html', '/wg-zimmer-in-Koeln.11011298.html', '/wg-zimmer-in-Koeln.73.0.1.0.html?asset_id=11010640&pu=19158680&sort_column=1&sort_order=0', '/wg-zimmer-in-Koeln-Altstadt-Nord.11010444.html', '/wg-zimmer-in-Koeln.11011298.html', '/wg-zimmer-in-Koeln.11010640.html', '/wg-zimmer-in-Koeln-Ehrenfeld.10875364.html', '/wg-zimmer-in-Koeln-Altstadt-Nord.11010442.html', '/wg-zimmer-in-Koeln-Raderberg.10895942.html', '/wg-zimmer-in-Koeln.73.0.1.0.html?asset_id=10875364&pu=12685206&sort_column=1&sort_order=0', '/wg-zimmer-in-Koeln-Ehrenfeld.10883742.html', '/wg-zimmer-in-Koeln-Ehrenfeld.10875364.html', '/wg-zimmer-in-Koeln-Altstadt-Sued.11010438.html', '/wg-zimmer-in-Koeln-Altstadt-Nord.11010442.html', '/wg-zimmer-in-Koeln.11011298.html', '/wg-zimmer-in-Koeln.11011388.html', '/wg-zimmer-in-Koeln.73.0.1.0.html?asset_id=10875363&pu=12685206&sort_column=1&sort_order=0', '/wg-zimmer-in-Koeln-Altstadt-Nord.11010440.html', '/wg-zimmer-in-Koeln-Ehrenfeld.10883742.html', '/wg-zimmer-in-Koeln-Altstadt-Sued.11010332.html', '/wg-zimmer-in-Koeln.11011388.html', '/wg-zimmer-in-Koeln.11011298.html', '/wg-zimmer-in-Koeln-Ehrenfeld.10875234.html', '/wg-zimmer-in-Koeln.73.0.1.0.html?asset_id=11010332&pu=19158680&sort_column=1&sort_order=0', '/wg-zimmer-in-Koeln-Ehrenfeld.10875234.html', '/wg-zimmer-in-Koeln-Ehrenfeld.10875362.html', '/wg-zimmer-in-Koeln-Altstadt-Nord.11010440.html', '/wg-zimmer-in-Koeln.11010640.html', '/wg-zimmer-in-Koeln-Altstadt-Nord.11010444.html', '/wg-zimmer-in-Koeln.11011388.html', '/wg-zimmer-in-Koeln.73.0.1.0.html?asset_id=11010438&pu=19158680&sort_column=1&sort_order=0', '/wg-zimmer-in-Koeln-Altstadt-Nord.10994798.html', '/wg-zimmer-in-Koeln-Altstadt-Sued.11010438.html', '/wg-zimmer-in-Koeln-Altstadt-Nord.11010444.html', '/wg-zimmer-in-Koeln-Altstadt-Nord.11010445.html', '/wg-zimmer-in-Koeln-Ehrenfeld.10883742.html', '/wg-zimmer-in-Koeln.11011387.html', '/wg-zimmer-in-Koeln.73.0.1.0.html?asset_id=11010438&pu=19158680&sort_column=1&sort_order=0', '/wg-zimmer-in-Koeln-Ehrenfeld.10883742.html', '/wg-zimmer-in-Koeln.11011388.html', '/wg-zimmer-in-Koeln-Altstadt-Nord.11010445.html', '/wg-zimmer-in-Koeln-Altstadt-Sued.11010438.html', '/wg-zimmer-in-Koeln-Ehrenfeld.10875362.html', '/wg-zimmer-in-Koeln-Altstadt-Nord.11010437.html', '/wg-zimmer-in-Koeln.73.0.1.0.html?asset_id=11010640&pu=19158680&sort_column=1&sort_order=0', '/wg-zimmer-in-Koeln.11011387.html', '/wg-zimmer-in-Koeln-Ehrenfeld.10883742.html', '/wg-zimmer-in-Koeln-Ehrenfeld.10875234.html', '/wg-zimmer-in-Koeln.11011298.html', '/wg-zimmer-in-Koeln.11011388.html', '/wg-zimmer-in-Koeln-Altstadt-Nord.11010437.html', '/wg-zimmer-in-Koeln.73.0.1.0.html?asset_id=11010445&pu=19158680&sort_column=1&sort_order=0', '/wg-zimmer-in-Koeln-Altstadt-Nord.11010444.html', '/wg-zimmer-in-Koeln-Altstadt-Nord.10875303.html', '/wg-zimmer-in-Koeln-Altstadt-Nord.11010445.html', '/wg-zimmer-in-Koeln-Ehrenfeld.10875363.html', '/wg-zimmer-in-Koeln-Altstadt-Nord.11010442.html', '/wg-zimmer-in-Koeln-Altstadt-Sued.11010438.html', '/wg-zimmer-in-Koeln.73.0.1.0.html?asset_id=11010442&pu=19158680&sort_column=1&sort_order=0', '/wg-zimmer-in-Koeln-Ehrenfeld.10875234.html', '/wg-zimmer-in-Koeln.11010640.html', '/wg-zimmer-in-Koeln.11011388.html', '/wg-zimmer-in-Koeln-Altstadt-Nord.11010442.html', '/wg-zimmer-in-Koeln-Altstadt-Nord.11010445.html', '/wg-zimmer-in-Koeln-Ehrenfeld.10883742.html']\n",
      "Anzahl der Campaign links:35\n",
      "Pages: 20\n",
      "Failed: 5\n"
     ]
    }
   ],
   "source": [
    "page = 0\n",
    "failed = 0\n",
    "base_links=[]\n",
    "campaign_links=[]\n",
    "\n",
    "# main class for the links\n",
    "target_class = \"truncate_title noprint\"\n",
    "\n",
    "# class for the campaign links\n",
    "campaign_class = \"campaign_click\"\n",
    "\n",
    "last_page = page\n",
    "cum_fails = 0\n",
    "while page <= 20:\n",
    "    # setting the url \n",
    "    url_overview_köln = \"https://www.wg-gesucht.de/wg-zimmer-in-Koeln.73.0.1.\"+str(page)+\".html\"\n",
    "\n",
    "    # Sends a GET request to the URL to retrieve its content; sometimes the Website tryes to redicrect the request to a captcha page, reloading solves the problem\n",
    "    response = requests.get(url_overview_köln, allow_redirects=False)\n",
    "    \n",
    "    # test response code\n",
    "    if response.status_code == 302:\n",
    "        # try again\n",
    "        failed += 1 \n",
    "        cum_fails += 1\n",
    "        continue \n",
    "    \n",
    "    page += 1\n",
    "    failed = 0\n",
    "\n",
    "    # Parse results\n",
    "    soup = BeautifulSoup(response.text, 'html.parser')\n",
    "\n",
    "    # Extracting all shared apartments\n",
    "    elements = soup.find_all('h3', class_ = target_class)\n",
    "\n",
    "    if len(elements) == 0:\n",
    "        print(\"No more elements found\")\n",
    "        break\n",
    "\n",
    "    \n",
    "    for element in elements:\n",
    "        for appartment in element.find_all('a', class_ = campaign_class):\n",
    "            campaign_links.append(element.find('a').get('href'))\n",
    "        for appartment in element.find_all('a', class_=''):\n",
    "            base_links.append(element.find('a').get('href'))\n",
    "\n",
    "    # just for debugging\n",
    "    last_page = page -1\n",
    "\n",
    "print(\"Base links: \")\n",
    "print(base_links)\n",
    "\n",
    "set_base_links = set(base_links)\n",
    "base_links = list(set_base_links)\n",
    "print(\"Anzahl der Base links:\" + str(len(base_links)))\n",
    "\n",
    "\n",
    "\n",
    "print(\"Campaign links: \" )\n",
    "print(campaign_links)\n",
    "\n",
    "set_campaign_links = set(campaign_links)\n",
    "campaign_links = list(set_campaign_links)\n",
    "print(\"Anzahl der Campaign links:\" + str(len(campaign_links)))\n",
    "print(\"Pages: \"+str(last_page))\n",
    "print(\"Failed: \"+str(cum_fails))\n"
   ]
  },
  {
   "cell_type": "markdown",
   "metadata": {},
   "source": [
    "nur verifizierte Unternehmen haben die Klasse \"campaign clicks\" --> sind auch unten als Werbung aufgeführt\n",
    "\n",
    "verfifizierte Personen nicht\n",
    "\n",
    "\n",
    "\n",
    "416 Ergebnisse sind okay. Erwartet hätten wir 420 -> ggf. Werbungen?"
   ]
  },
  {
   "cell_type": "code",
   "execution_count": 149,
   "metadata": {},
   "outputs": [],
   "source": [
    "# TODO: remove wrong links in the camoaign links (asset_id...)\n",
    "# TODO: für eine Einzelseite die Attribute bestimmen\n"
   ]
  }
 ],
 "metadata": {
  "kernelspec": {
   "display_name": "base",
   "language": "python",
   "name": "python3"
  },
  "language_info": {
   "codemirror_mode": {
    "name": "ipython",
    "version": 3
   },
   "file_extension": ".py",
   "mimetype": "text/x-python",
   "name": "python",
   "nbconvert_exporter": "python",
   "pygments_lexer": "ipython3",
   "version": "3.11.7"
  }
 },
 "nbformat": 4,
 "nbformat_minor": 2
}
