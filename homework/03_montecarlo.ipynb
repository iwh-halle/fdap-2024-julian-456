{
 "cells": [
  {
   "attachments": {},
   "cell_type": "markdown",
   "metadata": {},
   "source": [
    "![head.png](https://github.com/iwh-halle/FinancialDataAnalytics/blob/master/figures/head.jpg?raw=1)\n",
    "\n",
    "# Financial Data Analytics in Python\n",
    "\n",
    "**Prof. Dr. Fabian Woebbeking**</br>\n",
    "Assistant Professor of Financial Economics\n",
    "\n",
    "IWH - Leibniz Institute for Economic Research</br>\n",
    "MLU - Martin Luther University Halle-Wittenberg\n",
    "\n",
    "fabian.woebbeking@iwh-halle.de"
   ]
  },
  {
   "attachments": {},
   "cell_type": "markdown",
   "metadata": {},
   "source": [
    "# Homework\n",
    "\n",
    "You will need a Git/GitHub repository to submit your course deliverables. Consult [**slides.ipynb**](https://github.com/iwh-halle/FinancialDataAnalytics) for help with the tasks below! If you need further assistance, do not hesitate to open a Q&A at https://github.com/cafawo/FinancialDataAnalytics/discussions"
   ]
  },
  {
   "attachments": {},
   "cell_type": "markdown",
   "metadata": {},
   "source": [
    "### Task: \n",
    "\n",
    "The liquidity position of a firm measured in million is a **generalized Wiener process** with a drift of $0.1$ per month and a variance of $\\sigma^2 = 0.16$ per month. The initial cash position is $2.0$. Calculate:\n",
    "\n",
    "1. \tthe expected value and standard deviation in one, six and 12 months.\n",
    "2.\tWhat is the probability of a negative cash position in 6 and 12 months? "
   ]
  },
  {
   "cell_type": "code",
   "execution_count": 47,
   "metadata": {},
   "outputs": [
    {
     "name": "stdout",
     "output_type": "stream",
     "text": [
      "For 1 month the calculated value of X(t) of the generalized wiener process is: 2.030\n",
      "For 1 month the expected value is:2.100\n",
      "For 1 month the standard deviation is:0.400\n",
      "\n",
      "For 6 months the calculated value of X(t) of the generalized wiener process is: 2.785\n",
      "For 6 months the expected value is:2.600\n",
      "For 6 months the standard deviation is:0.980\n",
      "For 6 months the probability of negative cash is:0.398%\n",
      "\n",
      "For 12 months the calculated value of X(t) of the generalized wiener process is: 4.346\n",
      "For 12 months the expected value is:3.200\n",
      "For 12 months the standard deviation is:1.386\n",
      "For 12 months the probability of negative cash is:1.046%\n",
      "\n"
     ]
    }
   ],
   "source": [
    "import numpy as np\n",
    "import scipy.stats as stats\n",
    "np.random.seed(888) # setting a seed for reproducibility\n",
    "\n",
    "def calc_gen_wien_pro_X(drift, variance, init_cash, months):\n",
    "    '''\n",
    "    Calculates the general wealth with proportional return using the Monte Carlo method.\n",
    "\n",
    "    Parameters:\n",
    "    - drift (float): The expected average return per month.\n",
    "    - variance (float): The variance of the return per month.\n",
    "    - init_cash (float): The initial amount of cash.\n",
    "    - months (int): The number of months to simulate.\n",
    "\n",
    "    Returns:\n",
    "    - wealth (float): The final wealth after the simulation.\n",
    "    \n",
    "    '''\n",
    "    return init_cash + drift * months + (variance ** 0.5) * (months ** 0.5) * np.random.normal(0, 1)\n",
    "\n",
    "def expected_value(drift, init_cash, months):\n",
    "    \"\"\"\n",
    "    Calculates the expected value of an investment after a given number of months.\n",
    "    \n",
    "    Parameters:\n",
    "    - drift (float): The average monthly return rate of the investment.\n",
    "    - init_cash (float): The initial amount of cash invested.\n",
    "    - months (int): The number of months the investment is held for.\n",
    "    \n",
    "    Returns:\n",
    "    - float: The expected value of the investment after the given number of months.\n",
    "    \"\"\"\n",
    "    return init_cash + drift * months\n",
    "\n",
    "def standard_deviation(variance, months):\n",
    "    \"\"\"\n",
    "    Calculate the standard deviation of a financial data series.\n",
    "    \n",
    "    Parameters:\n",
    "    - variance (float): The variance of the data series.\n",
    "    - months (int): The number of months over which the data is collected.\n",
    "    \n",
    "    Returns:\n",
    "    - float: The standard deviation of the data series.\n",
    "    \"\"\"\n",
    "    return (variance ** 0.5) * (months ** 0.5)\n",
    "\n",
    "def probability_negative_cash(drift, variance, init_cash, months):\n",
    "    \"\"\"\n",
    "    Calculates the probability of having negative cash at the end of the given time period.\n",
    "    \n",
    "    Parameters:\n",
    "    - drift (float): The drift rate of the asset.\n",
    "    - variance (float): The variance of the asset.\n",
    "    - init_cash (float): The initial cash amount.\n",
    "    - months (int): The number of months for which the probability is calculated.\n",
    "    \n",
    "    Returns:\n",
    "    - probability (float): The probability of having negative cash at the end of the time period.\n",
    "    \"\"\"\n",
    "    mean = expected_value(drift, init_cash, months)\n",
    "    std_dev = standard_deviation(variance, months)\n",
    "    return stats.norm.cdf(0, loc=mean, scale=std_dev)\n",
    "\n",
    "\n",
    "def set_param_and_calc(drift, variance, init_cash, months):\n",
    "    \"\"\"\n",
    "    Calculates and prints various financial metrics for a given set of parameters.\n",
    "    \n",
    "    Parameters:\n",
    "    - drift (float): The drift rate of the financial asset.\n",
    "    - variance (float): The variance of the financial asset.\n",
    "    - init_cash (float): The initial cash value.\n",
    "    - months (int): The number of months for which to calculate the metrics.\n",
    "    \n",
    "    Returns:\n",
    "    Printing the calculated values.\n",
    "    \"\"\"\n",
    "    if months == 1:\n",
    "        print(f\"For {months} month the calculated value of X(t) of the generalized wiener process is: {calc_gen_wien_pro_X(drift, variance, init_cash, months):.3f}\")\n",
    "        print(f\"For {months} month the expected value is:{expected_value(drift, init_cash, months):.3f}\")\n",
    "        print(f\"For {months} month the standard deviation is:{standard_deviation(variance, months):.3f}\")\n",
    "        \n",
    "    \n",
    "    else:\n",
    "        print(f\"For {months} months the calculated value of X(t) of the generalized wiener process is: {calc_gen_wien_pro_X(drift, variance, init_cash, months):.3f}\")\n",
    "        print(f\"For {months} months the expected value is:{expected_value(drift, init_cash, months):.3f}\")\n",
    "        print(f\"For {months} months the standard deviation is:{standard_deviation(variance, months):.3f}\")\n",
    "        print(f\"For {months} months the probability of negative cash is:{probability_negative_cash(drift, variance, init_cash, months)*100:.3f}%\")\n",
    "\n",
    "    return\n",
    "\n",
    "months = [1, 6, 12]\n",
    "\n",
    "for month in months:\n",
    "    set_param_and_calc(0.1, 0.16, 2, month)\n",
    "    print(\"\")\n"
   ]
  },
  {
   "attachments": {},
   "cell_type": "markdown",
   "metadata": {},
   "source": [
    "### Task: \n",
    "\n",
    "The cash flow of a [call option](https://en.wikipedia.org/wiki/Call_option) with strike $K$ at maturity $T$ is given by\n",
    "\n",
    "$$\n",
    "max(S_T - K, 0) = (S_T - K)^+\n",
    "$$\n",
    "\n",
    "where $S_T$ is the price of the underlying at $T$. The price of the option under the [risk-neutral measure](https://en.wikipedia.org/wiki/Risk-neutral_measure) $\\mathbb{Q}$ is simply its discounted expected value\n",
    "$$\n",
    "\\mathbb{E}^\\mathbb{Q}[(S_T - K)^+] e^{-rT}.\n",
    "$$\n",
    "\n",
    "\n",
    "Calculate the price of the option, using:\n",
    "1. numerical integration and\n",
    "2. Monte carlo simulation.\n",
    "\n",
    "For you calculations, assume that todays price of the underlying is $S_0 = 220$, the strike is $K = 220$, volatility is $\\sigma = 0.98$, the risk free rate is $r = 10\\%$ (continuous) and maturity is one year. We further assume that the underlying $S$ follows a **Geometric Brownian motion**.\n",
    "\n",
    "Hint: The terminal stock price $S_T$, under the risk-neutral measure, follows a log-normal distribution with PDF\n",
    "\n",
    "$$f(x) = \\frac{1}{x s \\sqrt{2 \\pi}} \\exp\\left( -\\frac{(\\ln x - \\mu)^2}{2 s^2} \\right) $$\n",
    "\n",
    "where $\\mu = \\ln S_0 + (r-\\sigma^2 / 2)T$ and variance $s^2 = \\sigma^2 T$.\n"
   ]
  },
  {
   "cell_type": "code",
   "execution_count": 1,
   "metadata": {},
   "outputs": [],
   "source": [
    "import numpy as np\n",
    "from scipy.integrate import quad\n",
    "\n",
    "# Settings and pre Calculations\n",
    "\n",
    "# set Parameters\n",
    "todays_price = 220      # S_0\n",
    "strike_price = 220      # K\n",
    "volatility = 0.98       # σ\n",
    "risk_free_rate = 0.1    # r\n",
    "maturity = 1            # T in years\n",
    "\n",
    "# Calculate variance and standard deviation \n",
    "variance = volatility ** 2 * maturity\n",
    "standard_deviation = variance ** 0.5\n",
    "\n",
    "# Calculate mu \n",
    "mu = np.log(todays_price) + (risk_free_rate - 0.5 * volatility**2) * maturity\n"
   ]
  },
  {
   "cell_type": "code",
   "execution_count": 2,
   "metadata": {},
   "outputs": [
    {
     "name": "stdout",
     "output_type": "stream",
     "text": [
      "The expected payoff of the call option is: 99.02488639513986\n",
      "The price of the call option is: 89.60142252708256\n"
     ]
    }
   ],
   "source": [
    "# Numerical Solution\n",
    "# Define the function f(x) => x = S_T\n",
    "def f(x):\n",
    "    return 1 / (x*standard_deviation*(2*np.pi)**0.5) * np.exp(-(np.log(x)-mu)**2/(2 * standard_deviation**2))\n",
    "\n",
    "# Define the function of the payoff of the call option x = S_T\n",
    "def payoff(x):\n",
    "    return max(x - strike_price, 0)\n",
    "\n",
    "# Calculate the expected value of the payoff\n",
    "expected_payoff, err = quad(lambda x: f(x) * payoff(x), 0, np.inf)\n",
    "\n",
    "# Calculate the price of the call option\n",
    "price = np.exp(-risk_free_rate * maturity) * expected_payoff\n",
    "\n",
    "print(f\"The expected payoff of the call option is: {expected_payoff}\")\n",
    "print(f\"The price of the call option is: {price}\")\n",
    "\n"
   ]
  },
  {
   "cell_type": "code",
   "execution_count": 6,
   "metadata": {},
   "outputs": [
    {
     "name": "stdout",
     "output_type": "stream",
     "text": [
      "The price of the call option using Monte Carlo simulation is: 89.87492741667802\n"
     ]
    }
   ],
   "source": [
    "#  Monte Carlo Simulation\n",
    "np.random.seed(888) # setting a seed for reproducibility\n",
    "num_simulations = 1000000\n",
    "\n",
    "# Generate random samples from the log-normal distribution\n",
    "ST = np.random.lognormal(mean=mu, sigma=np.sqrt(variance), size=num_simulations)\n",
    "\n",
    "# Calculate the payoff of the call option for each simulation\n",
    "payoff = np.maximum(ST - strike_price, 0)\n",
    "\n",
    "# Calculate the average payoff and discount it\n",
    "option_price = np.mean(payoff) * np.exp(-risk_free_rate * maturity)\n",
    "\n",
    "print(f\"The price of the call option using Monte Carlo simulation is: {option_price}\")"
   ]
  }
 ],
 "metadata": {
  "kernelspec": {
   "display_name": "Python 3 (ipykernel)",
   "language": "python",
   "name": "python3"
  },
  "language_info": {
   "codemirror_mode": {
    "name": "ipython",
    "version": 3
   },
   "file_extension": ".py",
   "mimetype": "text/x-python",
   "name": "python",
   "nbconvert_exporter": "python",
   "pygments_lexer": "ipython3",
   "version": "3.11.7"
  }
 },
 "nbformat": 4,
 "nbformat_minor": 2
}
